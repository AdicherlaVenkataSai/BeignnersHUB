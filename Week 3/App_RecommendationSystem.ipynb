{
  "nbformat": 4,
  "nbformat_minor": 0,
  "metadata": {
    "colab": {
      "name": "App_RecommendationSystem.ipynb",
      "provenance": []
    },
    "kernelspec": {
      "name": "python3",
      "display_name": "Python 3"
    }
  },
  "cells": [
    {
      "cell_type": "code",
      "metadata": {
        "id": "adX5ev1pQaJj",
        "colab_type": "code",
        "colab": {
          "base_uri": "https://localhost:8080/",
          "height": 50
        },
        "outputId": "20d20438-2681-4e20-8f6e-ee0e5fd708d3"
      },
      "source": [
        "import numpy as np\n",
        "import pandas as pd\n",
        "import matplotlib.pyplot as plt\n",
        "import seaborn as sns\n",
        "%matplotlib inline"
      ],
      "execution_count": 1,
      "outputs": [
        {
          "output_type": "stream",
          "text": [
            "/usr/local/lib/python3.6/dist-packages/statsmodels/tools/_testing.py:19: FutureWarning: pandas.util.testing is deprecated. Use the functions in the public API at pandas.testing instead.\n",
            "  import pandas.util.testing as tm\n"
          ],
          "name": "stderr"
        }
      ]
    },
    {
      "cell_type": "code",
      "metadata": {
        "id": "zKKB2wLTQjM4",
        "colab_type": "code",
        "colab": {
          "resources": {
            "http://localhost:8080/nbextensions/google.colab/files.js": {
              "data": "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",
              "ok": true,
              "headers": [
                [
                  "content-type",
                  "application/javascript"
                ]
              ],
              "status": 200,
              "status_text": ""
            }
          },
          "base_uri": "https://localhost:8080/",
          "height": 123
        },
        "outputId": "f42d3530-674e-4443-a4ce-9b515a512887"
      },
      "source": [
        "from google.colab import files\n",
        "uploaded = files.upload()\n",
        "uploaded1 = files.upload()"
      ],
      "execution_count": 2,
      "outputs": [
        {
          "output_type": "display_data",
          "data": {
            "text/html": [
              "\n",
              "     <input type=\"file\" id=\"files-d6280331-fdb4-4764-8516-6d2a6a972f03\" name=\"files[]\" multiple disabled\n",
              "        style=\"border:none\" />\n",
              "     <output id=\"result-d6280331-fdb4-4764-8516-6d2a6a972f03\">\n",
              "      Upload widget is only available when the cell has been executed in the\n",
              "      current browser session. Please rerun this cell to enable.\n",
              "      </output>\n",
              "      <script src=\"/nbextensions/google.colab/files.js\"></script> "
            ],
            "text/plain": [
              "<IPython.core.display.HTML object>"
            ]
          },
          "metadata": {
            "tags": []
          }
        },
        {
          "output_type": "stream",
          "text": [
            "Saving AppleStore.csv to AppleStore.csv\n"
          ],
          "name": "stdout"
        },
        {
          "output_type": "display_data",
          "data": {
            "text/html": [
              "\n",
              "     <input type=\"file\" id=\"files-6b3f9eac-ff4a-402c-a3b6-44e370c34400\" name=\"files[]\" multiple disabled\n",
              "        style=\"border:none\" />\n",
              "     <output id=\"result-6b3f9eac-ff4a-402c-a3b6-44e370c34400\">\n",
              "      Upload widget is only available when the cell has been executed in the\n",
              "      current browser session. Please rerun this cell to enable.\n",
              "      </output>\n",
              "      <script src=\"/nbextensions/google.colab/files.js\"></script> "
            ],
            "text/plain": [
              "<IPython.core.display.HTML object>"
            ]
          },
          "metadata": {
            "tags": []
          }
        },
        {
          "output_type": "stream",
          "text": [
            "Saving appleStore_description.csv to appleStore_description.csv\n"
          ],
          "name": "stdout"
        }
      ]
    },
    {
      "cell_type": "code",
      "metadata": {
        "id": "Ojt4hWJVQmBe",
        "colab_type": "code",
        "colab": {}
      },
      "source": [
        "import io \n",
        "AppleStore = pd.read_csv(io.BytesIO(uploaded['AppleStore.csv']))\n",
        "reviews = pd.read_csv(io.BytesIO(uploaded1['appleStore_description.csv']))"
      ],
      "execution_count": 3,
      "outputs": []
    },
    {
      "cell_type": "code",
      "metadata": {
        "id": "IUeZedc5QqSZ",
        "colab_type": "code",
        "colab": {
          "base_uri": "https://localhost:8080/",
          "height": 406
        },
        "outputId": "94759fe5-db3b-4496-cbb2-9359b3fffa39"
      },
      "source": [
        "AppleStore.head()"
      ],
      "execution_count": 4,
      "outputs": [
        {
          "output_type": "execute_result",
          "data": {
            "text/html": [
              "<div>\n",
              "<style scoped>\n",
              "    .dataframe tbody tr th:only-of-type {\n",
              "        vertical-align: middle;\n",
              "    }\n",
              "\n",
              "    .dataframe tbody tr th {\n",
              "        vertical-align: top;\n",
              "    }\n",
              "\n",
              "    .dataframe thead th {\n",
              "        text-align: right;\n",
              "    }\n",
              "</style>\n",
              "<table border=\"1\" class=\"dataframe\">\n",
              "  <thead>\n",
              "    <tr style=\"text-align: right;\">\n",
              "      <th></th>\n",
              "      <th>Unnamed: 0</th>\n",
              "      <th>id</th>\n",
              "      <th>track_name</th>\n",
              "      <th>size_bytes</th>\n",
              "      <th>currency</th>\n",
              "      <th>price</th>\n",
              "      <th>rating_count_tot</th>\n",
              "      <th>rating_count_ver</th>\n",
              "      <th>user_rating</th>\n",
              "      <th>user_rating_ver</th>\n",
              "      <th>ver</th>\n",
              "      <th>cont_rating</th>\n",
              "      <th>prime_genre</th>\n",
              "      <th>sup_devices.num</th>\n",
              "      <th>ipadSc_urls.num</th>\n",
              "      <th>lang.num</th>\n",
              "      <th>vpp_lic</th>\n",
              "    </tr>\n",
              "  </thead>\n",
              "  <tbody>\n",
              "    <tr>\n",
              "      <th>0</th>\n",
              "      <td>1</td>\n",
              "      <td>281656475</td>\n",
              "      <td>PAC-MAN Premium</td>\n",
              "      <td>100788224</td>\n",
              "      <td>USD</td>\n",
              "      <td>3.99</td>\n",
              "      <td>21292</td>\n",
              "      <td>26</td>\n",
              "      <td>4.0</td>\n",
              "      <td>4.5</td>\n",
              "      <td>6.3.5</td>\n",
              "      <td>4+</td>\n",
              "      <td>Games</td>\n",
              "      <td>38</td>\n",
              "      <td>5</td>\n",
              "      <td>10</td>\n",
              "      <td>1</td>\n",
              "    </tr>\n",
              "    <tr>\n",
              "      <th>1</th>\n",
              "      <td>2</td>\n",
              "      <td>281796108</td>\n",
              "      <td>Evernote - stay organized</td>\n",
              "      <td>158578688</td>\n",
              "      <td>USD</td>\n",
              "      <td>0.00</td>\n",
              "      <td>161065</td>\n",
              "      <td>26</td>\n",
              "      <td>4.0</td>\n",
              "      <td>3.5</td>\n",
              "      <td>8.2.2</td>\n",
              "      <td>4+</td>\n",
              "      <td>Productivity</td>\n",
              "      <td>37</td>\n",
              "      <td>5</td>\n",
              "      <td>23</td>\n",
              "      <td>1</td>\n",
              "    </tr>\n",
              "    <tr>\n",
              "      <th>2</th>\n",
              "      <td>3</td>\n",
              "      <td>281940292</td>\n",
              "      <td>WeatherBug - Local Weather, Radar, Maps, Alerts</td>\n",
              "      <td>100524032</td>\n",
              "      <td>USD</td>\n",
              "      <td>0.00</td>\n",
              "      <td>188583</td>\n",
              "      <td>2822</td>\n",
              "      <td>3.5</td>\n",
              "      <td>4.5</td>\n",
              "      <td>5.0.0</td>\n",
              "      <td>4+</td>\n",
              "      <td>Weather</td>\n",
              "      <td>37</td>\n",
              "      <td>5</td>\n",
              "      <td>3</td>\n",
              "      <td>1</td>\n",
              "    </tr>\n",
              "    <tr>\n",
              "      <th>3</th>\n",
              "      <td>4</td>\n",
              "      <td>282614216</td>\n",
              "      <td>eBay: Best App to Buy, Sell, Save! Online Shop...</td>\n",
              "      <td>128512000</td>\n",
              "      <td>USD</td>\n",
              "      <td>0.00</td>\n",
              "      <td>262241</td>\n",
              "      <td>649</td>\n",
              "      <td>4.0</td>\n",
              "      <td>4.5</td>\n",
              "      <td>5.10.0</td>\n",
              "      <td>12+</td>\n",
              "      <td>Shopping</td>\n",
              "      <td>37</td>\n",
              "      <td>5</td>\n",
              "      <td>9</td>\n",
              "      <td>1</td>\n",
              "    </tr>\n",
              "    <tr>\n",
              "      <th>4</th>\n",
              "      <td>5</td>\n",
              "      <td>282935706</td>\n",
              "      <td>Bible</td>\n",
              "      <td>92774400</td>\n",
              "      <td>USD</td>\n",
              "      <td>0.00</td>\n",
              "      <td>985920</td>\n",
              "      <td>5320</td>\n",
              "      <td>4.5</td>\n",
              "      <td>5.0</td>\n",
              "      <td>7.5.1</td>\n",
              "      <td>4+</td>\n",
              "      <td>Reference</td>\n",
              "      <td>37</td>\n",
              "      <td>5</td>\n",
              "      <td>45</td>\n",
              "      <td>1</td>\n",
              "    </tr>\n",
              "  </tbody>\n",
              "</table>\n",
              "</div>"
            ],
            "text/plain": [
              "   Unnamed: 0         id  ... lang.num  vpp_lic\n",
              "0           1  281656475  ...       10        1\n",
              "1           2  281796108  ...       23        1\n",
              "2           3  281940292  ...        3        1\n",
              "3           4  282614216  ...        9        1\n",
              "4           5  282935706  ...       45        1\n",
              "\n",
              "[5 rows x 17 columns]"
            ]
          },
          "metadata": {
            "tags": []
          },
          "execution_count": 4
        }
      ]
    },
    {
      "cell_type": "code",
      "metadata": {
        "id": "ECMnSd3DQuif",
        "colab_type": "code",
        "colab": {
          "base_uri": "https://localhost:8080/",
          "height": 191
        },
        "outputId": "3eeb9d34-4d71-42ef-9be2-b77f1664eeb5"
      },
      "source": [
        "reviews.head()"
      ],
      "execution_count": 5,
      "outputs": [
        {
          "output_type": "execute_result",
          "data": {
            "text/html": [
              "<div>\n",
              "<style scoped>\n",
              "    .dataframe tbody tr th:only-of-type {\n",
              "        vertical-align: middle;\n",
              "    }\n",
              "\n",
              "    .dataframe tbody tr th {\n",
              "        vertical-align: top;\n",
              "    }\n",
              "\n",
              "    .dataframe thead th {\n",
              "        text-align: right;\n",
              "    }\n",
              "</style>\n",
              "<table border=\"1\" class=\"dataframe\">\n",
              "  <thead>\n",
              "    <tr style=\"text-align: right;\">\n",
              "      <th></th>\n",
              "      <th>id</th>\n",
              "      <th>track_name</th>\n",
              "      <th>size_bytes</th>\n",
              "      <th>app_desc</th>\n",
              "    </tr>\n",
              "  </thead>\n",
              "  <tbody>\n",
              "    <tr>\n",
              "      <th>0</th>\n",
              "      <td>281656475</td>\n",
              "      <td>PAC-MAN Premium</td>\n",
              "      <td>100788224</td>\n",
              "      <td>SAVE 20%, now only $3.99 for a limited time!\\n...</td>\n",
              "    </tr>\n",
              "    <tr>\n",
              "      <th>1</th>\n",
              "      <td>281796108</td>\n",
              "      <td>Evernote - stay organized</td>\n",
              "      <td>158578688</td>\n",
              "      <td>Let Evernote change the way you organize your ...</td>\n",
              "    </tr>\n",
              "    <tr>\n",
              "      <th>2</th>\n",
              "      <td>281940292</td>\n",
              "      <td>WeatherBug - Local Weather, Radar, Maps, Alerts</td>\n",
              "      <td>100524032</td>\n",
              "      <td>Download the most popular free weather app pow...</td>\n",
              "    </tr>\n",
              "    <tr>\n",
              "      <th>3</th>\n",
              "      <td>282614216</td>\n",
              "      <td>eBay: Best App to Buy, Sell, Save! Online Shop...</td>\n",
              "      <td>128512000</td>\n",
              "      <td>The eBay app is the best way to find anything ...</td>\n",
              "    </tr>\n",
              "    <tr>\n",
              "      <th>4</th>\n",
              "      <td>282935706</td>\n",
              "      <td>Bible</td>\n",
              "      <td>92774400</td>\n",
              "      <td>On more than 250 million devices around the wo...</td>\n",
              "    </tr>\n",
              "  </tbody>\n",
              "</table>\n",
              "</div>"
            ],
            "text/plain": [
              "          id  ...                                           app_desc\n",
              "0  281656475  ...  SAVE 20%, now only $3.99 for a limited time!\\n...\n",
              "1  281796108  ...  Let Evernote change the way you organize your ...\n",
              "2  281940292  ...  Download the most popular free weather app pow...\n",
              "3  282614216  ...  The eBay app is the best way to find anything ...\n",
              "4  282935706  ...  On more than 250 million devices around the wo...\n",
              "\n",
              "[5 rows x 4 columns]"
            ]
          },
          "metadata": {
            "tags": []
          },
          "execution_count": 5
        }
      ]
    },
    {
      "cell_type": "code",
      "metadata": {
        "id": "ZLmjDFJIQx3f",
        "colab_type": "code",
        "colab": {
          "base_uri": "https://localhost:8080/",
          "height": 666
        },
        "outputId": "472c5ff5-2c63-4a26-8d98-01eedaddaf76"
      },
      "source": [
        "Store = pd.merge(AppleStore, reviews, on='id')\n",
        "Store.head()"
      ],
      "execution_count": 6,
      "outputs": [
        {
          "output_type": "execute_result",
          "data": {
            "text/html": [
              "<div>\n",
              "<style scoped>\n",
              "    .dataframe tbody tr th:only-of-type {\n",
              "        vertical-align: middle;\n",
              "    }\n",
              "\n",
              "    .dataframe tbody tr th {\n",
              "        vertical-align: top;\n",
              "    }\n",
              "\n",
              "    .dataframe thead th {\n",
              "        text-align: right;\n",
              "    }\n",
              "</style>\n",
              "<table border=\"1\" class=\"dataframe\">\n",
              "  <thead>\n",
              "    <tr style=\"text-align: right;\">\n",
              "      <th></th>\n",
              "      <th>Unnamed: 0</th>\n",
              "      <th>id</th>\n",
              "      <th>track_name_x</th>\n",
              "      <th>size_bytes_x</th>\n",
              "      <th>currency</th>\n",
              "      <th>price</th>\n",
              "      <th>rating_count_tot</th>\n",
              "      <th>rating_count_ver</th>\n",
              "      <th>user_rating</th>\n",
              "      <th>user_rating_ver</th>\n",
              "      <th>ver</th>\n",
              "      <th>cont_rating</th>\n",
              "      <th>prime_genre</th>\n",
              "      <th>sup_devices.num</th>\n",
              "      <th>ipadSc_urls.num</th>\n",
              "      <th>lang.num</th>\n",
              "      <th>vpp_lic</th>\n",
              "      <th>track_name_y</th>\n",
              "      <th>size_bytes_y</th>\n",
              "      <th>app_desc</th>\n",
              "    </tr>\n",
              "  </thead>\n",
              "  <tbody>\n",
              "    <tr>\n",
              "      <th>0</th>\n",
              "      <td>1</td>\n",
              "      <td>281656475</td>\n",
              "      <td>PAC-MAN Premium</td>\n",
              "      <td>100788224</td>\n",
              "      <td>USD</td>\n",
              "      <td>3.99</td>\n",
              "      <td>21292</td>\n",
              "      <td>26</td>\n",
              "      <td>4.0</td>\n",
              "      <td>4.5</td>\n",
              "      <td>6.3.5</td>\n",
              "      <td>4+</td>\n",
              "      <td>Games</td>\n",
              "      <td>38</td>\n",
              "      <td>5</td>\n",
              "      <td>10</td>\n",
              "      <td>1</td>\n",
              "      <td>PAC-MAN Premium</td>\n",
              "      <td>100788224</td>\n",
              "      <td>SAVE 20%, now only $3.99 for a limited time!\\n...</td>\n",
              "    </tr>\n",
              "    <tr>\n",
              "      <th>1</th>\n",
              "      <td>2</td>\n",
              "      <td>281796108</td>\n",
              "      <td>Evernote - stay organized</td>\n",
              "      <td>158578688</td>\n",
              "      <td>USD</td>\n",
              "      <td>0.00</td>\n",
              "      <td>161065</td>\n",
              "      <td>26</td>\n",
              "      <td>4.0</td>\n",
              "      <td>3.5</td>\n",
              "      <td>8.2.2</td>\n",
              "      <td>4+</td>\n",
              "      <td>Productivity</td>\n",
              "      <td>37</td>\n",
              "      <td>5</td>\n",
              "      <td>23</td>\n",
              "      <td>1</td>\n",
              "      <td>Evernote - stay organized</td>\n",
              "      <td>158578688</td>\n",
              "      <td>Let Evernote change the way you organize your ...</td>\n",
              "    </tr>\n",
              "    <tr>\n",
              "      <th>2</th>\n",
              "      <td>3</td>\n",
              "      <td>281940292</td>\n",
              "      <td>WeatherBug - Local Weather, Radar, Maps, Alerts</td>\n",
              "      <td>100524032</td>\n",
              "      <td>USD</td>\n",
              "      <td>0.00</td>\n",
              "      <td>188583</td>\n",
              "      <td>2822</td>\n",
              "      <td>3.5</td>\n",
              "      <td>4.5</td>\n",
              "      <td>5.0.0</td>\n",
              "      <td>4+</td>\n",
              "      <td>Weather</td>\n",
              "      <td>37</td>\n",
              "      <td>5</td>\n",
              "      <td>3</td>\n",
              "      <td>1</td>\n",
              "      <td>WeatherBug - Local Weather, Radar, Maps, Alerts</td>\n",
              "      <td>100524032</td>\n",
              "      <td>Download the most popular free weather app pow...</td>\n",
              "    </tr>\n",
              "    <tr>\n",
              "      <th>3</th>\n",
              "      <td>4</td>\n",
              "      <td>282614216</td>\n",
              "      <td>eBay: Best App to Buy, Sell, Save! Online Shop...</td>\n",
              "      <td>128512000</td>\n",
              "      <td>USD</td>\n",
              "      <td>0.00</td>\n",
              "      <td>262241</td>\n",
              "      <td>649</td>\n",
              "      <td>4.0</td>\n",
              "      <td>4.5</td>\n",
              "      <td>5.10.0</td>\n",
              "      <td>12+</td>\n",
              "      <td>Shopping</td>\n",
              "      <td>37</td>\n",
              "      <td>5</td>\n",
              "      <td>9</td>\n",
              "      <td>1</td>\n",
              "      <td>eBay: Best App to Buy, Sell, Save! Online Shop...</td>\n",
              "      <td>128512000</td>\n",
              "      <td>The eBay app is the best way to find anything ...</td>\n",
              "    </tr>\n",
              "    <tr>\n",
              "      <th>4</th>\n",
              "      <td>5</td>\n",
              "      <td>282935706</td>\n",
              "      <td>Bible</td>\n",
              "      <td>92774400</td>\n",
              "      <td>USD</td>\n",
              "      <td>0.00</td>\n",
              "      <td>985920</td>\n",
              "      <td>5320</td>\n",
              "      <td>4.5</td>\n",
              "      <td>5.0</td>\n",
              "      <td>7.5.1</td>\n",
              "      <td>4+</td>\n",
              "      <td>Reference</td>\n",
              "      <td>37</td>\n",
              "      <td>5</td>\n",
              "      <td>45</td>\n",
              "      <td>1</td>\n",
              "      <td>Bible</td>\n",
              "      <td>92774400</td>\n",
              "      <td>On more than 250 million devices around the wo...</td>\n",
              "    </tr>\n",
              "  </tbody>\n",
              "</table>\n",
              "</div>"
            ],
            "text/plain": [
              "   Unnamed: 0  ...                                           app_desc\n",
              "0           1  ...  SAVE 20%, now only $3.99 for a limited time!\\n...\n",
              "1           2  ...  Let Evernote change the way you organize your ...\n",
              "2           3  ...  Download the most popular free weather app pow...\n",
              "3           4  ...  The eBay app is the best way to find anything ...\n",
              "4           5  ...  On more than 250 million devices around the wo...\n",
              "\n",
              "[5 rows x 20 columns]"
            ]
          },
          "metadata": {
            "tags": []
          },
          "execution_count": 6
        }
      ]
    },
    {
      "cell_type": "code",
      "metadata": {
        "id": "SDcszR4CQ0jx",
        "colab_type": "code",
        "colab": {
          "base_uri": "https://localhost:8080/",
          "height": 288
        },
        "outputId": "70588ed4-7e1c-44f5-c3ec-aace14045296"
      },
      "source": [
        "Combine_AppleStore_df = Store.drop(columns=['track_name_y', 'size_bytes_y', 'rating_count_ver', 'user_rating_ver', 'vpp_lic', 'currency', 'cont_rating', 'ipadSc_urls.num'])\n",
        "Combine_AppleStore_df.head()"
      ],
      "execution_count": 7,
      "outputs": [
        {
          "output_type": "execute_result",
          "data": {
            "text/html": [
              "<div>\n",
              "<style scoped>\n",
              "    .dataframe tbody tr th:only-of-type {\n",
              "        vertical-align: middle;\n",
              "    }\n",
              "\n",
              "    .dataframe tbody tr th {\n",
              "        vertical-align: top;\n",
              "    }\n",
              "\n",
              "    .dataframe thead th {\n",
              "        text-align: right;\n",
              "    }\n",
              "</style>\n",
              "<table border=\"1\" class=\"dataframe\">\n",
              "  <thead>\n",
              "    <tr style=\"text-align: right;\">\n",
              "      <th></th>\n",
              "      <th>Unnamed: 0</th>\n",
              "      <th>id</th>\n",
              "      <th>track_name_x</th>\n",
              "      <th>size_bytes_x</th>\n",
              "      <th>price</th>\n",
              "      <th>rating_count_tot</th>\n",
              "      <th>user_rating</th>\n",
              "      <th>ver</th>\n",
              "      <th>prime_genre</th>\n",
              "      <th>sup_devices.num</th>\n",
              "      <th>lang.num</th>\n",
              "      <th>app_desc</th>\n",
              "    </tr>\n",
              "  </thead>\n",
              "  <tbody>\n",
              "    <tr>\n",
              "      <th>0</th>\n",
              "      <td>1</td>\n",
              "      <td>281656475</td>\n",
              "      <td>PAC-MAN Premium</td>\n",
              "      <td>100788224</td>\n",
              "      <td>3.99</td>\n",
              "      <td>21292</td>\n",
              "      <td>4.0</td>\n",
              "      <td>6.3.5</td>\n",
              "      <td>Games</td>\n",
              "      <td>38</td>\n",
              "      <td>10</td>\n",
              "      <td>SAVE 20%, now only $3.99 for a limited time!\\n...</td>\n",
              "    </tr>\n",
              "    <tr>\n",
              "      <th>1</th>\n",
              "      <td>2</td>\n",
              "      <td>281796108</td>\n",
              "      <td>Evernote - stay organized</td>\n",
              "      <td>158578688</td>\n",
              "      <td>0.00</td>\n",
              "      <td>161065</td>\n",
              "      <td>4.0</td>\n",
              "      <td>8.2.2</td>\n",
              "      <td>Productivity</td>\n",
              "      <td>37</td>\n",
              "      <td>23</td>\n",
              "      <td>Let Evernote change the way you organize your ...</td>\n",
              "    </tr>\n",
              "    <tr>\n",
              "      <th>2</th>\n",
              "      <td>3</td>\n",
              "      <td>281940292</td>\n",
              "      <td>WeatherBug - Local Weather, Radar, Maps, Alerts</td>\n",
              "      <td>100524032</td>\n",
              "      <td>0.00</td>\n",
              "      <td>188583</td>\n",
              "      <td>3.5</td>\n",
              "      <td>5.0.0</td>\n",
              "      <td>Weather</td>\n",
              "      <td>37</td>\n",
              "      <td>3</td>\n",
              "      <td>Download the most popular free weather app pow...</td>\n",
              "    </tr>\n",
              "    <tr>\n",
              "      <th>3</th>\n",
              "      <td>4</td>\n",
              "      <td>282614216</td>\n",
              "      <td>eBay: Best App to Buy, Sell, Save! Online Shop...</td>\n",
              "      <td>128512000</td>\n",
              "      <td>0.00</td>\n",
              "      <td>262241</td>\n",
              "      <td>4.0</td>\n",
              "      <td>5.10.0</td>\n",
              "      <td>Shopping</td>\n",
              "      <td>37</td>\n",
              "      <td>9</td>\n",
              "      <td>The eBay app is the best way to find anything ...</td>\n",
              "    </tr>\n",
              "    <tr>\n",
              "      <th>4</th>\n",
              "      <td>5</td>\n",
              "      <td>282935706</td>\n",
              "      <td>Bible</td>\n",
              "      <td>92774400</td>\n",
              "      <td>0.00</td>\n",
              "      <td>985920</td>\n",
              "      <td>4.5</td>\n",
              "      <td>7.5.1</td>\n",
              "      <td>Reference</td>\n",
              "      <td>37</td>\n",
              "      <td>45</td>\n",
              "      <td>On more than 250 million devices around the wo...</td>\n",
              "    </tr>\n",
              "  </tbody>\n",
              "</table>\n",
              "</div>"
            ],
            "text/plain": [
              "   Unnamed: 0  ...                                           app_desc\n",
              "0           1  ...  SAVE 20%, now only $3.99 for a limited time!\\n...\n",
              "1           2  ...  Let Evernote change the way you organize your ...\n",
              "2           3  ...  Download the most popular free weather app pow...\n",
              "3           4  ...  The eBay app is the best way to find anything ...\n",
              "4           5  ...  On more than 250 million devices around the wo...\n",
              "\n",
              "[5 rows x 12 columns]"
            ]
          },
          "metadata": {
            "tags": []
          },
          "execution_count": 7
        }
      ]
    },
    {
      "cell_type": "code",
      "metadata": {
        "id": "iEbNXhMZQ3kW",
        "colab_type": "code",
        "colab": {
          "base_uri": "https://localhost:8080/",
          "height": 223
        },
        "outputId": "eaee0965-35b8-47fa-8ad8-a9164fd37590"
      },
      "source": [
        "Combine_AppleStore_df = Combine_AppleStore_df.rename(columns = {'id': 'ID','track_name_x': 'TRACK NAME', 'size_bytes_x':'SIZE',\n",
        "                                    'rating_count_tot':'TOTAL VOTES', 'user_rating':'RATING', 'ver':'VERSION', 'prime_genre': 'GENRE',  \n",
        "                                    'sup_devices.num':'DEVICE SUPPORTED', 'lang.num':'LANGUAGE SUPPORTED', 'app_desc':'DESCRIPTION','price': 'PRICE'})\n",
        "Combine_AppleStore_df.head()"
      ],
      "execution_count": 8,
      "outputs": [
        {
          "output_type": "execute_result",
          "data": {
            "text/html": [
              "<div>\n",
              "<style scoped>\n",
              "    .dataframe tbody tr th:only-of-type {\n",
              "        vertical-align: middle;\n",
              "    }\n",
              "\n",
              "    .dataframe tbody tr th {\n",
              "        vertical-align: top;\n",
              "    }\n",
              "\n",
              "    .dataframe thead th {\n",
              "        text-align: right;\n",
              "    }\n",
              "</style>\n",
              "<table border=\"1\" class=\"dataframe\">\n",
              "  <thead>\n",
              "    <tr style=\"text-align: right;\">\n",
              "      <th></th>\n",
              "      <th>Unnamed: 0</th>\n",
              "      <th>ID</th>\n",
              "      <th>TRACK NAME</th>\n",
              "      <th>SIZE</th>\n",
              "      <th>PRICE</th>\n",
              "      <th>TOTAL VOTES</th>\n",
              "      <th>RATING</th>\n",
              "      <th>VERSION</th>\n",
              "      <th>GENRE</th>\n",
              "      <th>DEVICE SUPPORTED</th>\n",
              "      <th>LANGUAGE SUPPORTED</th>\n",
              "      <th>DESCRIPTION</th>\n",
              "    </tr>\n",
              "  </thead>\n",
              "  <tbody>\n",
              "    <tr>\n",
              "      <th>0</th>\n",
              "      <td>1</td>\n",
              "      <td>281656475</td>\n",
              "      <td>PAC-MAN Premium</td>\n",
              "      <td>100788224</td>\n",
              "      <td>3.99</td>\n",
              "      <td>21292</td>\n",
              "      <td>4.0</td>\n",
              "      <td>6.3.5</td>\n",
              "      <td>Games</td>\n",
              "      <td>38</td>\n",
              "      <td>10</td>\n",
              "      <td>SAVE 20%, now only $3.99 for a limited time!\\n...</td>\n",
              "    </tr>\n",
              "    <tr>\n",
              "      <th>1</th>\n",
              "      <td>2</td>\n",
              "      <td>281796108</td>\n",
              "      <td>Evernote - stay organized</td>\n",
              "      <td>158578688</td>\n",
              "      <td>0.00</td>\n",
              "      <td>161065</td>\n",
              "      <td>4.0</td>\n",
              "      <td>8.2.2</td>\n",
              "      <td>Productivity</td>\n",
              "      <td>37</td>\n",
              "      <td>23</td>\n",
              "      <td>Let Evernote change the way you organize your ...</td>\n",
              "    </tr>\n",
              "    <tr>\n",
              "      <th>2</th>\n",
              "      <td>3</td>\n",
              "      <td>281940292</td>\n",
              "      <td>WeatherBug - Local Weather, Radar, Maps, Alerts</td>\n",
              "      <td>100524032</td>\n",
              "      <td>0.00</td>\n",
              "      <td>188583</td>\n",
              "      <td>3.5</td>\n",
              "      <td>5.0.0</td>\n",
              "      <td>Weather</td>\n",
              "      <td>37</td>\n",
              "      <td>3</td>\n",
              "      <td>Download the most popular free weather app pow...</td>\n",
              "    </tr>\n",
              "    <tr>\n",
              "      <th>3</th>\n",
              "      <td>4</td>\n",
              "      <td>282614216</td>\n",
              "      <td>eBay: Best App to Buy, Sell, Save! Online Shop...</td>\n",
              "      <td>128512000</td>\n",
              "      <td>0.00</td>\n",
              "      <td>262241</td>\n",
              "      <td>4.0</td>\n",
              "      <td>5.10.0</td>\n",
              "      <td>Shopping</td>\n",
              "      <td>37</td>\n",
              "      <td>9</td>\n",
              "      <td>The eBay app is the best way to find anything ...</td>\n",
              "    </tr>\n",
              "    <tr>\n",
              "      <th>4</th>\n",
              "      <td>5</td>\n",
              "      <td>282935706</td>\n",
              "      <td>Bible</td>\n",
              "      <td>92774400</td>\n",
              "      <td>0.00</td>\n",
              "      <td>985920</td>\n",
              "      <td>4.5</td>\n",
              "      <td>7.5.1</td>\n",
              "      <td>Reference</td>\n",
              "      <td>37</td>\n",
              "      <td>45</td>\n",
              "      <td>On more than 250 million devices around the wo...</td>\n",
              "    </tr>\n",
              "  </tbody>\n",
              "</table>\n",
              "</div>"
            ],
            "text/plain": [
              "   Unnamed: 0  ...                                        DESCRIPTION\n",
              "0           1  ...  SAVE 20%, now only $3.99 for a limited time!\\n...\n",
              "1           2  ...  Let Evernote change the way you organize your ...\n",
              "2           3  ...  Download the most popular free weather app pow...\n",
              "3           4  ...  The eBay app is the best way to find anything ...\n",
              "4           5  ...  On more than 250 million devices around the wo...\n",
              "\n",
              "[5 rows x 12 columns]"
            ]
          },
          "metadata": {
            "tags": []
          },
          "execution_count": 8
        }
      ]
    },
    {
      "cell_type": "code",
      "metadata": {
        "id": "MjsA0hurQ7kj",
        "colab_type": "code",
        "colab": {
          "base_uri": "https://localhost:8080/",
          "height": 245
        },
        "outputId": "da4452de-7f40-411d-d900-c7385c171a7e"
      },
      "source": [
        "Combine_AppleStore_df.drop_duplicates"
      ],
      "execution_count": 9,
      "outputs": [
        {
          "output_type": "execute_result",
          "data": {
            "text/plain": [
              "<bound method DataFrame.drop_duplicates of       Unnamed: 0  ...                                        DESCRIPTION\n",
              "0              1  ...  SAVE 20%, now only $3.99 for a limited time!\\n...\n",
              "1              2  ...  Let Evernote change the way you organize your ...\n",
              "2              3  ...  Download the most popular free weather app pow...\n",
              "3              4  ...  The eBay app is the best way to find anything ...\n",
              "4              5  ...  On more than 250 million devices around the wo...\n",
              "...          ...  ...                                                ...\n",
              "7192       11081  ...  Place the falling blocks correctly in order to...\n",
              "7193       11082  ...  A thrilling virtual reality roller coaster exp...\n",
              "7194       11087  ...  Rock star Bret Michaels, winner of Celebrity A...\n",
              "7195       11089  ...  VR Roller Coaster World is an app for Google C...\n",
              "7196       11097  ...  5 previous escape games plus 1 new game in one...\n",
              "\n",
              "[7197 rows x 12 columns]>"
            ]
          },
          "metadata": {
            "tags": []
          },
          "execution_count": 9
        }
      ]
    },
    {
      "cell_type": "code",
      "metadata": {
        "id": "3Ea_f_C9Q8UJ",
        "colab_type": "code",
        "colab": {
          "base_uri": "https://localhost:8080/",
          "height": 33
        },
        "outputId": "c40f8241-48fd-479e-e0fb-2ac9fe97b428"
      },
      "source": [
        "Combine_AppleStore_df.shape"
      ],
      "execution_count": 10,
      "outputs": [
        {
          "output_type": "execute_result",
          "data": {
            "text/plain": [
              "(7197, 12)"
            ]
          },
          "metadata": {
            "tags": []
          },
          "execution_count": 10
        }
      ]
    },
    {
      "cell_type": "code",
      "metadata": {
        "id": "QV9Ih6MhQ_uO",
        "colab_type": "code",
        "colab": {
          "base_uri": "https://localhost:8080/",
          "height": 326
        },
        "outputId": "bd581c7c-6bc9-4180-e2db-9124b98e9cce"
      },
      "source": [
        "Combine_AppleStore_df.info()"
      ],
      "execution_count": 11,
      "outputs": [
        {
          "output_type": "stream",
          "text": [
            "<class 'pandas.core.frame.DataFrame'>\n",
            "Int64Index: 7197 entries, 0 to 7196\n",
            "Data columns (total 12 columns):\n",
            " #   Column              Non-Null Count  Dtype  \n",
            "---  ------              --------------  -----  \n",
            " 0   Unnamed: 0          7197 non-null   int64  \n",
            " 1   ID                  7197 non-null   int64  \n",
            " 2   TRACK NAME          7197 non-null   object \n",
            " 3   SIZE                7197 non-null   int64  \n",
            " 4   PRICE               7197 non-null   float64\n",
            " 5   TOTAL VOTES         7197 non-null   int64  \n",
            " 6   RATING              7197 non-null   float64\n",
            " 7   VERSION             7197 non-null   object \n",
            " 8   GENRE               7197 non-null   object \n",
            " 9   DEVICE SUPPORTED    7197 non-null   int64  \n",
            " 10  LANGUAGE SUPPORTED  7197 non-null   int64  \n",
            " 11  DESCRIPTION         7197 non-null   object \n",
            "dtypes: float64(2), int64(6), object(4)\n",
            "memory usage: 730.9+ KB\n"
          ],
          "name": "stdout"
        }
      ]
    },
    {
      "cell_type": "markdown",
      "metadata": {
        "id": "G94Wq9fpRCjR",
        "colab_type": "text"
      },
      "source": [
        "DESCRIPTION"
      ]
    },
    {
      "cell_type": "code",
      "metadata": {
        "id": "AuCPpgGGRDzZ",
        "colab_type": "code",
        "colab": {}
      },
      "source": [
        "v=Combine_AppleStore_df['TOTAL VOTES']\n",
        "R=Combine_AppleStore_df['RATING']\n",
        "C=Combine_AppleStore_df['RATING'].mean()\n",
        "m=Combine_AppleStore_df['TOTAL VOTES'].quantile(0.70)"
      ],
      "execution_count": 12,
      "outputs": []
    },
    {
      "cell_type": "code",
      "metadata": {
        "id": "DI-hH2a2RHyr",
        "colab_type": "code",
        "colab": {}
      },
      "source": [
        "Combine_AppleStore_df['WEIGHTED AVERAGE']=((R*v)+ (C*m))/(v+m)"
      ],
      "execution_count": 13,
      "outputs": []
    },
    {
      "cell_type": "code",
      "metadata": {
        "id": "dDnfVUxxRJ0K",
        "colab_type": "code",
        "colab": {
          "base_uri": "https://localhost:8080/",
          "height": 288
        },
        "outputId": "3cceb3fb-82fe-498e-af04-8c59f26c5f1b"
      },
      "source": [
        "Combine_AppleStore_df.head()"
      ],
      "execution_count": 14,
      "outputs": [
        {
          "output_type": "execute_result",
          "data": {
            "text/html": [
              "<div>\n",
              "<style scoped>\n",
              "    .dataframe tbody tr th:only-of-type {\n",
              "        vertical-align: middle;\n",
              "    }\n",
              "\n",
              "    .dataframe tbody tr th {\n",
              "        vertical-align: top;\n",
              "    }\n",
              "\n",
              "    .dataframe thead th {\n",
              "        text-align: right;\n",
              "    }\n",
              "</style>\n",
              "<table border=\"1\" class=\"dataframe\">\n",
              "  <thead>\n",
              "    <tr style=\"text-align: right;\">\n",
              "      <th></th>\n",
              "      <th>Unnamed: 0</th>\n",
              "      <th>ID</th>\n",
              "      <th>TRACK NAME</th>\n",
              "      <th>SIZE</th>\n",
              "      <th>PRICE</th>\n",
              "      <th>TOTAL VOTES</th>\n",
              "      <th>RATING</th>\n",
              "      <th>VERSION</th>\n",
              "      <th>GENRE</th>\n",
              "      <th>DEVICE SUPPORTED</th>\n",
              "      <th>LANGUAGE SUPPORTED</th>\n",
              "      <th>DESCRIPTION</th>\n",
              "      <th>WEIGHTED AVERAGE</th>\n",
              "    </tr>\n",
              "  </thead>\n",
              "  <tbody>\n",
              "    <tr>\n",
              "      <th>0</th>\n",
              "      <td>1</td>\n",
              "      <td>281656475</td>\n",
              "      <td>PAC-MAN Premium</td>\n",
              "      <td>100788224</td>\n",
              "      <td>3.99</td>\n",
              "      <td>21292</td>\n",
              "      <td>4.0</td>\n",
              "      <td>6.3.5</td>\n",
              "      <td>Games</td>\n",
              "      <td>38</td>\n",
              "      <td>10</td>\n",
              "      <td>SAVE 20%, now only $3.99 for a limited time!\\n...</td>\n",
              "      <td>3.964445</td>\n",
              "    </tr>\n",
              "    <tr>\n",
              "      <th>1</th>\n",
              "      <td>2</td>\n",
              "      <td>281796108</td>\n",
              "      <td>Evernote - stay organized</td>\n",
              "      <td>158578688</td>\n",
              "      <td>0.00</td>\n",
              "      <td>161065</td>\n",
              "      <td>4.0</td>\n",
              "      <td>8.2.2</td>\n",
              "      <td>Productivity</td>\n",
              "      <td>37</td>\n",
              "      <td>23</td>\n",
              "      <td>Let Evernote change the way you organize your ...</td>\n",
              "      <td>3.994972</td>\n",
              "    </tr>\n",
              "    <tr>\n",
              "      <th>2</th>\n",
              "      <td>3</td>\n",
              "      <td>281940292</td>\n",
              "      <td>WeatherBug - Local Weather, Radar, Maps, Alerts</td>\n",
              "      <td>100524032</td>\n",
              "      <td>0.00</td>\n",
              "      <td>188583</td>\n",
              "      <td>3.5</td>\n",
              "      <td>5.0.0</td>\n",
              "      <td>Weather</td>\n",
              "      <td>37</td>\n",
              "      <td>3</td>\n",
              "      <td>Download the most popular free weather app pow...</td>\n",
              "      <td>3.500245</td>\n",
              "    </tr>\n",
              "    <tr>\n",
              "      <th>3</th>\n",
              "      <td>4</td>\n",
              "      <td>282614216</td>\n",
              "      <td>eBay: Best App to Buy, Sell, Save! Online Shop...</td>\n",
              "      <td>128512000</td>\n",
              "      <td>0.00</td>\n",
              "      <td>262241</td>\n",
              "      <td>4.0</td>\n",
              "      <td>5.10.0</td>\n",
              "      <td>Shopping</td>\n",
              "      <td>37</td>\n",
              "      <td>9</td>\n",
              "      <td>The eBay app is the best way to find anything ...</td>\n",
              "      <td>3.996899</td>\n",
              "    </tr>\n",
              "    <tr>\n",
              "      <th>4</th>\n",
              "      <td>5</td>\n",
              "      <td>282935706</td>\n",
              "      <td>Bible</td>\n",
              "      <td>92774400</td>\n",
              "      <td>0.00</td>\n",
              "      <td>985920</td>\n",
              "      <td>4.5</td>\n",
              "      <td>7.5.1</td>\n",
              "      <td>Reference</td>\n",
              "      <td>37</td>\n",
              "      <td>45</td>\n",
              "      <td>On more than 250 million devices around the wo...</td>\n",
              "      <td>4.498295</td>\n",
              "    </tr>\n",
              "  </tbody>\n",
              "</table>\n",
              "</div>"
            ],
            "text/plain": [
              "   Unnamed: 0  ...  WEIGHTED AVERAGE\n",
              "0           1  ...          3.964445\n",
              "1           2  ...          3.994972\n",
              "2           3  ...          3.500245\n",
              "3           4  ...          3.996899\n",
              "4           5  ...          4.498295\n",
              "\n",
              "[5 rows x 13 columns]"
            ]
          },
          "metadata": {
            "tags": []
          },
          "execution_count": 14
        }
      ]
    },
    {
      "cell_type": "code",
      "metadata": {
        "id": "9aArDOEGRwpr",
        "colab_type": "code",
        "colab": {
          "base_uri": "https://localhost:8080/",
          "height": 622
        },
        "outputId": "7c4c8648-98ec-4fef-a347-6f043c048da6"
      },
      "source": [
        "AppleStore_sorted_ranking=Combine_AppleStore_df.sort_values('WEIGHTED AVERAGE',ascending=False)\n",
        "AppleStore_sorted_ranking[['TRACK NAME', 'TOTAL VOTES', 'RATING', 'WEIGHTED AVERAGE', 'PRICE']].head(20)"
      ],
      "execution_count": 19,
      "outputs": [
        {
          "output_type": "execute_result",
          "data": {
            "text/html": [
              "<div>\n",
              "<style scoped>\n",
              "    .dataframe tbody tr th:only-of-type {\n",
              "        vertical-align: middle;\n",
              "    }\n",
              "\n",
              "    .dataframe tbody tr th {\n",
              "        vertical-align: top;\n",
              "    }\n",
              "\n",
              "    .dataframe thead th {\n",
              "        text-align: right;\n",
              "    }\n",
              "</style>\n",
              "<table border=\"1\" class=\"dataframe\">\n",
              "  <thead>\n",
              "    <tr style=\"text-align: right;\">\n",
              "      <th></th>\n",
              "      <th>TRACK NAME</th>\n",
              "      <th>TOTAL VOTES</th>\n",
              "      <th>RATING</th>\n",
              "      <th>WEIGHTED AVERAGE</th>\n",
              "      <th>PRICE</th>\n",
              "    </tr>\n",
              "  </thead>\n",
              "  <tbody>\n",
              "    <tr>\n",
              "      <th>1104</th>\n",
              "      <td>Head Soccer</td>\n",
              "      <td>481564</td>\n",
              "      <td>5.0</td>\n",
              "      <td>4.994726</td>\n",
              "      <td>0.00</td>\n",
              "    </tr>\n",
              "    <tr>\n",
              "      <th>302</th>\n",
              "      <td>Plants vs. Zombies</td>\n",
              "      <td>426463</td>\n",
              "      <td>5.0</td>\n",
              "      <td>4.994047</td>\n",
              "      <td>0.99</td>\n",
              "    </tr>\n",
              "    <tr>\n",
              "      <th>3086</th>\n",
              "      <td>Sniper 3D Assassin: Shoot to Kill Gun Game</td>\n",
              "      <td>386521</td>\n",
              "      <td>5.0</td>\n",
              "      <td>4.993435</td>\n",
              "      <td>0.00</td>\n",
              "    </tr>\n",
              "    <tr>\n",
              "      <th>2177</th>\n",
              "      <td>Geometry Dash Lite</td>\n",
              "      <td>370370</td>\n",
              "      <td>5.0</td>\n",
              "      <td>4.993150</td>\n",
              "      <td>0.00</td>\n",
              "    </tr>\n",
              "    <tr>\n",
              "      <th>498</th>\n",
              "      <td>Infinity Blade</td>\n",
              "      <td>326482</td>\n",
              "      <td>5.0</td>\n",
              "      <td>4.992234</td>\n",
              "      <td>0.99</td>\n",
              "    </tr>\n",
              "    <tr>\n",
              "      <th>1877</th>\n",
              "      <td>Geometry Dash</td>\n",
              "      <td>266440</td>\n",
              "      <td>5.0</td>\n",
              "      <td>4.990495</td>\n",
              "      <td>1.99</td>\n",
              "    </tr>\n",
              "    <tr>\n",
              "      <th>810</th>\n",
              "      <td>Domino's Pizza USA</td>\n",
              "      <td>258624</td>\n",
              "      <td>5.0</td>\n",
              "      <td>4.990210</td>\n",
              "      <td>0.00</td>\n",
              "    </tr>\n",
              "    <tr>\n",
              "      <th>2731</th>\n",
              "      <td>CSR Racing 2</td>\n",
              "      <td>257100</td>\n",
              "      <td>5.0</td>\n",
              "      <td>4.990152</td>\n",
              "      <td>0.00</td>\n",
              "    </tr>\n",
              "    <tr>\n",
              "      <th>1802</th>\n",
              "      <td>Pictoword: Fun 2 Pics Guess What's the Word Tr...</td>\n",
              "      <td>186089</td>\n",
              "      <td>5.0</td>\n",
              "      <td>4.986429</td>\n",
              "      <td>0.00</td>\n",
              "    </tr>\n",
              "    <tr>\n",
              "      <th>350</th>\n",
              "      <td>Plants vs. Zombies HD</td>\n",
              "      <td>163598</td>\n",
              "      <td>5.0</td>\n",
              "      <td>4.984582</td>\n",
              "      <td>0.99</td>\n",
              "    </tr>\n",
              "    <tr>\n",
              "      <th>1484</th>\n",
              "      <td>The Room</td>\n",
              "      <td>143908</td>\n",
              "      <td>5.0</td>\n",
              "      <td>4.982498</td>\n",
              "      <td>0.99</td>\n",
              "    </tr>\n",
              "    <tr>\n",
              "      <th>1817</th>\n",
              "      <td>Iron Force</td>\n",
              "      <td>141634</td>\n",
              "      <td>5.0</td>\n",
              "      <td>4.982220</td>\n",
              "      <td>0.00</td>\n",
              "    </tr>\n",
              "    <tr>\n",
              "      <th>1918</th>\n",
              "      <td>Sniper Shooter: Gun Shooting Games</td>\n",
              "      <td>134080</td>\n",
              "      <td>5.0</td>\n",
              "      <td>4.981232</td>\n",
              "      <td>0.00</td>\n",
              "    </tr>\n",
              "    <tr>\n",
              "      <th>467</th>\n",
              "      <td>Flashlight Ⓞ</td>\n",
              "      <td>130450</td>\n",
              "      <td>5.0</td>\n",
              "      <td>4.980716</td>\n",
              "      <td>0.00</td>\n",
              "    </tr>\n",
              "    <tr>\n",
              "      <th>884</th>\n",
              "      <td>Pic Collage - Picture Editor &amp; Photo Collage M...</td>\n",
              "      <td>123433</td>\n",
              "      <td>5.0</td>\n",
              "      <td>4.979635</td>\n",
              "      <td>0.00</td>\n",
              "    </tr>\n",
              "    <tr>\n",
              "      <th>545</th>\n",
              "      <td>Zappos: shop shoes &amp; clothes, fast free shipping</td>\n",
              "      <td>103655</td>\n",
              "      <td>5.0</td>\n",
              "      <td>4.975813</td>\n",
              "      <td>0.00</td>\n",
              "    </tr>\n",
              "    <tr>\n",
              "      <th>1286</th>\n",
              "      <td>Credit Karma: Free Credit Scores, Reports &amp; Al...</td>\n",
              "      <td>101679</td>\n",
              "      <td>5.0</td>\n",
              "      <td>4.975351</td>\n",
              "      <td>0.00</td>\n",
              "    </tr>\n",
              "    <tr>\n",
              "      <th>5690</th>\n",
              "      <td>PewDiePie's Tuber Simulator</td>\n",
              "      <td>90851</td>\n",
              "      <td>5.0</td>\n",
              "      <td>4.972468</td>\n",
              "      <td>0.00</td>\n",
              "    </tr>\n",
              "    <tr>\n",
              "      <th>1411</th>\n",
              "      <td>We Heart It - Fashion, wallpapers, quotes, tat...</td>\n",
              "      <td>90414</td>\n",
              "      <td>5.0</td>\n",
              "      <td>4.972337</td>\n",
              "      <td>0.00</td>\n",
              "    </tr>\n",
              "    <tr>\n",
              "      <th>3414</th>\n",
              "      <td>Google Photos - unlimited photo and video storage</td>\n",
              "      <td>88742</td>\n",
              "      <td>5.0</td>\n",
              "      <td>4.971826</td>\n",
              "      <td>0.00</td>\n",
              "    </tr>\n",
              "  </tbody>\n",
              "</table>\n",
              "</div>"
            ],
            "text/plain": [
              "                                             TRACK NAME  ...  PRICE\n",
              "1104                                        Head Soccer  ...   0.00\n",
              "302                                  Plants vs. Zombies  ...   0.99\n",
              "3086         Sniper 3D Assassin: Shoot to Kill Gun Game  ...   0.00\n",
              "2177                                 Geometry Dash Lite  ...   0.00\n",
              "498                                      Infinity Blade  ...   0.99\n",
              "1877                                      Geometry Dash  ...   1.99\n",
              "810                                  Domino's Pizza USA  ...   0.00\n",
              "2731                                       CSR Racing 2  ...   0.00\n",
              "1802  Pictoword: Fun 2 Pics Guess What's the Word Tr...  ...   0.00\n",
              "350                               Plants vs. Zombies HD  ...   0.99\n",
              "1484                                           The Room  ...   0.99\n",
              "1817                                         Iron Force  ...   0.00\n",
              "1918                 Sniper Shooter: Gun Shooting Games  ...   0.00\n",
              "467                                        Flashlight Ⓞ  ...   0.00\n",
              "884   Pic Collage - Picture Editor & Photo Collage M...  ...   0.00\n",
              "545    Zappos: shop shoes & clothes, fast free shipping  ...   0.00\n",
              "1286  Credit Karma: Free Credit Scores, Reports & Al...  ...   0.00\n",
              "5690                        PewDiePie's Tuber Simulator  ...   0.00\n",
              "1411  We Heart It - Fashion, wallpapers, quotes, tat...  ...   0.00\n",
              "3414  Google Photos - unlimited photo and video storage  ...   0.00\n",
              "\n",
              "[20 rows x 5 columns]"
            ]
          },
          "metadata": {
            "tags": []
          },
          "execution_count": 19
        }
      ]
    },
    {
      "cell_type": "code",
      "metadata": {
        "id": "igJmF2qSSPhF",
        "colab_type": "code",
        "colab": {
          "base_uri": "https://localhost:8080/",
          "height": 403
        },
        "outputId": "c11fe394-62b4-4dcb-d537-715f76fea206"
      },
      "source": [
        "weight_average=Combine_AppleStore_df.sort_values('WEIGHTED AVERAGE',ascending=False)\n",
        "plt.figure(figsize=(12,6))\n",
        "axis1=sns.barplot(x=weight_average['WEIGHTED AVERAGE'].head(10), y=weight_average['TRACK NAME'].head(10), data=weight_average)\n",
        "plt.xlim(4.8, 5)\n",
        "plt.title('BEST APP BY AVERAGE VOTES', weight='bold')\n",
        "plt.xlabel('WEIGHTED AVERAGE SCORE', weight='bold')\n",
        "plt.ylabel('TRACK NAME', weight='bold')\n",
        "plt.savefig('best_app.png')"
      ],
      "execution_count": 26,
      "outputs": [
        {
          "output_type": "display_data",
          "data": {
            "image/png": "[encoded data removed]",
            "text/plain": [
              "<Figure size 864x432 with 1 Axes>"
            ]
          },
          "metadata": {
            "tags": [],
            "needs_background": "light"
          }
        }
      ]
    },
    {
      "cell_type": "code",
      "metadata": {
        "id": "5G7sKM9oXcnQ",
        "colab_type": "code",
        "colab": {
          "base_uri": "https://localhost:8080/",
          "height": 622
        },
        "outputId": "92eb1814-846c-4b97-b2f9-fa8d49f11ede"
      },
      "source": [
        "AppleStore_sorted_ranking1=Combine_AppleStore_df.sort_values('TOTAL VOTES',ascending=False)\n",
        "AppleStore_sorted_ranking1[['TRACK NAME', 'TOTAL VOTES', 'RATING', 'WEIGHTED AVERAGE', 'PRICE']].head(20)"
      ],
      "execution_count": 27,
      "outputs": [
        {
          "output_type": "execute_result",
          "data": {
            "text/html": [
              "<div>\n",
              "<style scoped>\n",
              "    .dataframe tbody tr th:only-of-type {\n",
              "        vertical-align: middle;\n",
              "    }\n",
              "\n",
              "    .dataframe tbody tr th {\n",
              "        vertical-align: top;\n",
              "    }\n",
              "\n",
              "    .dataframe thead th {\n",
              "        text-align: right;\n",
              "    }\n",
              "</style>\n",
              "<table border=\"1\" class=\"dataframe\">\n",
              "  <thead>\n",
              "    <tr style=\"text-align: right;\">\n",
              "      <th></th>\n",
              "      <th>TRACK NAME</th>\n",
              "      <th>TOTAL VOTES</th>\n",
              "      <th>RATING</th>\n",
              "      <th>WEIGHTED AVERAGE</th>\n",
              "      <th>PRICE</th>\n",
              "    </tr>\n",
              "  </thead>\n",
              "  <tbody>\n",
              "    <tr>\n",
              "      <th>16</th>\n",
              "      <td>Facebook</td>\n",
              "      <td>2974676</td>\n",
              "      <td>3.5</td>\n",
              "      <td>3.500016</td>\n",
              "      <td>0.00</td>\n",
              "    </tr>\n",
              "    <tr>\n",
              "      <th>519</th>\n",
              "      <td>Instagram</td>\n",
              "      <td>2161558</td>\n",
              "      <td>4.5</td>\n",
              "      <td>4.499222</td>\n",
              "      <td>0.00</td>\n",
              "    </tr>\n",
              "    <tr>\n",
              "      <th>1346</th>\n",
              "      <td>Clash of Clans</td>\n",
              "      <td>2130805</td>\n",
              "      <td>4.5</td>\n",
              "      <td>4.499210</td>\n",
              "      <td>0.00</td>\n",
              "    </tr>\n",
              "    <tr>\n",
              "      <th>707</th>\n",
              "      <td>Temple Run</td>\n",
              "      <td>1724546</td>\n",
              "      <td>4.5</td>\n",
              "      <td>4.499025</td>\n",
              "      <td>0.00</td>\n",
              "    </tr>\n",
              "    <tr>\n",
              "      <th>7</th>\n",
              "      <td>Pandora - Music &amp; Radio</td>\n",
              "      <td>1126879</td>\n",
              "      <td>4.0</td>\n",
              "      <td>3.999275</td>\n",
              "      <td>0.00</td>\n",
              "    </tr>\n",
              "    <tr>\n",
              "      <th>755</th>\n",
              "      <td>Pinterest</td>\n",
              "      <td>1061624</td>\n",
              "      <td>4.5</td>\n",
              "      <td>4.498417</td>\n",
              "      <td>0.00</td>\n",
              "    </tr>\n",
              "    <tr>\n",
              "      <th>4</th>\n",
              "      <td>Bible</td>\n",
              "      <td>985920</td>\n",
              "      <td>4.5</td>\n",
              "      <td>4.498295</td>\n",
              "      <td>0.00</td>\n",
              "    </tr>\n",
              "    <tr>\n",
              "      <th>1493</th>\n",
              "      <td>Candy Crush Saga</td>\n",
              "      <td>961794</td>\n",
              "      <td>4.5</td>\n",
              "      <td>4.498253</td>\n",
              "      <td>0.00</td>\n",
              "    </tr>\n",
              "    <tr>\n",
              "      <th>178</th>\n",
              "      <td>Spotify Music</td>\n",
              "      <td>878563</td>\n",
              "      <td>4.5</td>\n",
              "      <td>4.498087</td>\n",
              "      <td>0.00</td>\n",
              "    </tr>\n",
              "    <tr>\n",
              "      <th>275</th>\n",
              "      <td>Angry Birds</td>\n",
              "      <td>824451</td>\n",
              "      <td>4.5</td>\n",
              "      <td>4.497962</td>\n",
              "      <td>0.00</td>\n",
              "    </tr>\n",
              "    <tr>\n",
              "      <th>1246</th>\n",
              "      <td>Subway Surfers</td>\n",
              "      <td>706110</td>\n",
              "      <td>4.5</td>\n",
              "      <td>4.497621</td>\n",
              "      <td>0.00</td>\n",
              "    </tr>\n",
              "    <tr>\n",
              "      <th>348</th>\n",
              "      <td>Fruit Ninja Classic</td>\n",
              "      <td>698516</td>\n",
              "      <td>4.5</td>\n",
              "      <td>4.497595</td>\n",
              "      <td>1.99</td>\n",
              "    </tr>\n",
              "    <tr>\n",
              "      <th>343</th>\n",
              "      <td>Solitaire</td>\n",
              "      <td>679055</td>\n",
              "      <td>4.5</td>\n",
              "      <td>4.497527</td>\n",
              "      <td>0.00</td>\n",
              "    </tr>\n",
              "    <tr>\n",
              "      <th>990</th>\n",
              "      <td>CSR Racing</td>\n",
              "      <td>677247</td>\n",
              "      <td>4.5</td>\n",
              "      <td>4.497520</td>\n",
              "      <td>0.00</td>\n",
              "    </tr>\n",
              "    <tr>\n",
              "      <th>3042</th>\n",
              "      <td>Crossy Road - Endless Arcade Hopper</td>\n",
              "      <td>669079</td>\n",
              "      <td>4.5</td>\n",
              "      <td>4.497490</td>\n",
              "      <td>0.00</td>\n",
              "    </tr>\n",
              "    <tr>\n",
              "      <th>1634</th>\n",
              "      <td>Injustice: Gods Among Us</td>\n",
              "      <td>612532</td>\n",
              "      <td>4.5</td>\n",
              "      <td>4.497259</td>\n",
              "      <td>0.00</td>\n",
              "    </tr>\n",
              "    <tr>\n",
              "      <th>1218</th>\n",
              "      <td>Hay Day</td>\n",
              "      <td>567344</td>\n",
              "      <td>4.5</td>\n",
              "      <td>4.497041</td>\n",
              "      <td>0.00</td>\n",
              "    </tr>\n",
              "    <tr>\n",
              "      <th>1182</th>\n",
              "      <td>Clear Vision (17+)</td>\n",
              "      <td>541693</td>\n",
              "      <td>4.5</td>\n",
              "      <td>4.496902</td>\n",
              "      <td>0.99</td>\n",
              "    </tr>\n",
              "    <tr>\n",
              "      <th>1052</th>\n",
              "      <td>Minecraft: Pocket Edition</td>\n",
              "      <td>522012</td>\n",
              "      <td>4.5</td>\n",
              "      <td>4.496785</td>\n",
              "      <td>6.99</td>\n",
              "    </tr>\n",
              "    <tr>\n",
              "      <th>47</th>\n",
              "      <td>PAC-MAN</td>\n",
              "      <td>508808</td>\n",
              "      <td>3.0</td>\n",
              "      <td>3.001786</td>\n",
              "      <td>0.00</td>\n",
              "    </tr>\n",
              "  </tbody>\n",
              "</table>\n",
              "</div>"
            ],
            "text/plain": [
              "                               TRACK NAME  TOTAL VOTES  ...  WEIGHTED AVERAGE  PRICE\n",
              "16                               Facebook      2974676  ...          3.500016   0.00\n",
              "519                             Instagram      2161558  ...          4.499222   0.00\n",
              "1346                       Clash of Clans      2130805  ...          4.499210   0.00\n",
              "707                            Temple Run      1724546  ...          4.499025   0.00\n",
              "7                 Pandora - Music & Radio      1126879  ...          3.999275   0.00\n",
              "755                             Pinterest      1061624  ...          4.498417   0.00\n",
              "4                                   Bible       985920  ...          4.498295   0.00\n",
              "1493                     Candy Crush Saga       961794  ...          4.498253   0.00\n",
              "178                         Spotify Music       878563  ...          4.498087   0.00\n",
              "275                           Angry Birds       824451  ...          4.497962   0.00\n",
              "1246                       Subway Surfers       706110  ...          4.497621   0.00\n",
              "348                   Fruit Ninja Classic       698516  ...          4.497595   1.99\n",
              "343                             Solitaire       679055  ...          4.497527   0.00\n",
              "990                            CSR Racing       677247  ...          4.497520   0.00\n",
              "3042  Crossy Road - Endless Arcade Hopper       669079  ...          4.497490   0.00\n",
              "1634             Injustice: Gods Among Us       612532  ...          4.497259   0.00\n",
              "1218                              Hay Day       567344  ...          4.497041   0.00\n",
              "1182                   Clear Vision (17+)       541693  ...          4.496902   0.99\n",
              "1052            Minecraft: Pocket Edition       522012  ...          4.496785   6.99\n",
              "47                                PAC-MAN       508808  ...          3.001786   0.00\n",
              "\n",
              "[20 rows x 5 columns]"
            ]
          },
          "metadata": {
            "tags": []
          },
          "execution_count": 27
        }
      ]
    },
    {
      "cell_type": "code",
      "metadata": {
        "id": "od-bhIvZUasv",
        "colab_type": "code",
        "colab": {
          "base_uri": "https://localhost:8080/",
          "height": 403
        },
        "outputId": "f2a5a169-ed74-4fe1-effe-c61ca1d72185"
      },
      "source": [
        "\n",
        "popularity=Combine_AppleStore_df.sort_values('TOTAL VOTES',ascending=False)\n",
        "plt.figure(figsize=(12,6))\n",
        "ax=sns.barplot(x=popularity['TOTAL VOTES'].head(10), y=popularity['TRACK NAME'].head(10), data=popularity)\n",
        "\n",
        "plt.title('MOST POPULAR BY VOTES', weight='bold')\n",
        "plt.xlabel('TOTAL VOTES', weight='bold')\n",
        "plt.ylabel('TRACK NAME', weight='bold')\n",
        "plt.savefig('best_popular_app.png')"
      ],
      "execution_count": 28,
      "outputs": [
        {
          "output_type": "display_data",
          "data": {
            "image/png": "[encoded data removed]",
            "text/plain": [
              "<Figure size 864x432 with 1 Axes>"
            ]
          },
          "metadata": {
            "tags": [],
            "needs_background": "light"
          }
        }
      ]
    },
    {
      "cell_type": "markdown",
      "metadata": {
        "id": "MPKsl3iDX-qs",
        "colab_type": "text"
      },
      "source": [
        "RECOMMENDATION BASED ON WEIGHTED AVERAGE AND TOTAL VOTES "
      ]
    },
    {
      "cell_type": "code",
      "metadata": {
        "id": "gQ879djXXloE",
        "colab_type": "code",
        "colab": {
          "base_uri": "https://localhost:8080/",
          "height": 191
        },
        "outputId": "5a170520-ecf8-43d5-cd13-f85e3b41b15a"
      },
      "source": [
        "from sklearn.preprocessing import MinMaxScaler\n",
        "\n",
        "scaling=MinMaxScaler()\n",
        "AppleStore_scaled_df=scaling.fit_transform(Combine_AppleStore_df[['WEIGHTED AVERAGE','TOTAL VOTES']])\n",
        "AppleStore_normalized_df=pd.DataFrame(Combine_AppleStore_df,columns=['WEIGHTED AVERAGE','TOTAL VOTES'])\n",
        "AppleStore_normalized_df.head()"
      ],
      "execution_count": 29,
      "outputs": [
        {
          "output_type": "execute_result",
          "data": {
            "text/html": [
              "<div>\n",
              "<style scoped>\n",
              "    .dataframe tbody tr th:only-of-type {\n",
              "        vertical-align: middle;\n",
              "    }\n",
              "\n",
              "    .dataframe tbody tr th {\n",
              "        vertical-align: top;\n",
              "    }\n",
              "\n",
              "    .dataframe thead th {\n",
              "        text-align: right;\n",
              "    }\n",
              "</style>\n",
              "<table border=\"1\" class=\"dataframe\">\n",
              "  <thead>\n",
              "    <tr style=\"text-align: right;\">\n",
              "      <th></th>\n",
              "      <th>WEIGHTED AVERAGE</th>\n",
              "      <th>TOTAL VOTES</th>\n",
              "    </tr>\n",
              "  </thead>\n",
              "  <tbody>\n",
              "    <tr>\n",
              "      <th>0</th>\n",
              "      <td>3.964445</td>\n",
              "      <td>21292</td>\n",
              "    </tr>\n",
              "    <tr>\n",
              "      <th>1</th>\n",
              "      <td>3.994972</td>\n",
              "      <td>161065</td>\n",
              "    </tr>\n",
              "    <tr>\n",
              "      <th>2</th>\n",
              "      <td>3.500245</td>\n",
              "      <td>188583</td>\n",
              "    </tr>\n",
              "    <tr>\n",
              "      <th>3</th>\n",
              "      <td>3.996899</td>\n",
              "      <td>262241</td>\n",
              "    </tr>\n",
              "    <tr>\n",
              "      <th>4</th>\n",
              "      <td>4.498295</td>\n",
              "      <td>985920</td>\n",
              "    </tr>\n",
              "  </tbody>\n",
              "</table>\n",
              "</div>"
            ],
            "text/plain": [
              "   WEIGHTED AVERAGE  TOTAL VOTES\n",
              "0          3.964445        21292\n",
              "1          3.994972       161065\n",
              "2          3.500245       188583\n",
              "3          3.996899       262241\n",
              "4          4.498295       985920"
            ]
          },
          "metadata": {
            "tags": []
          },
          "execution_count": 29
        }
      ]
    },
    {
      "cell_type": "code",
      "metadata": {
        "id": "OzfO9keNYZgD",
        "colab_type": "code",
        "colab": {}
      },
      "source": [
        "Combine_AppleStore_df[['normalized_weight_average','normalized_total_votes']]= AppleStore_normalized_df"
      ],
      "execution_count": 30,
      "outputs": []
    },
    {
      "cell_type": "code",
      "metadata": {
        "id": "NUoNYtHzZWlj",
        "colab_type": "code",
        "colab": {
          "base_uri": "https://localhost:8080/",
          "height": 370
        },
        "outputId": "7bfb5842-9fbc-4b09-f3f3-d65593a2e4f8"
      },
      "source": [
        "Combine_AppleStore_df.head()"
      ],
      "execution_count": 31,
      "outputs": [
        {
          "output_type": "execute_result",
          "data": {
            "text/html": [
              "<div>\n",
              "<style scoped>\n",
              "    .dataframe tbody tr th:only-of-type {\n",
              "        vertical-align: middle;\n",
              "    }\n",
              "\n",
              "    .dataframe tbody tr th {\n",
              "        vertical-align: top;\n",
              "    }\n",
              "\n",
              "    .dataframe thead th {\n",
              "        text-align: right;\n",
              "    }\n",
              "</style>\n",
              "<table border=\"1\" class=\"dataframe\">\n",
              "  <thead>\n",
              "    <tr style=\"text-align: right;\">\n",
              "      <th></th>\n",
              "      <th>Unnamed: 0</th>\n",
              "      <th>ID</th>\n",
              "      <th>TRACK NAME</th>\n",
              "      <th>SIZE</th>\n",
              "      <th>PRICE</th>\n",
              "      <th>TOTAL VOTES</th>\n",
              "      <th>RATING</th>\n",
              "      <th>VERSION</th>\n",
              "      <th>GENRE</th>\n",
              "      <th>DEVICE SUPPORTED</th>\n",
              "      <th>LANGUAGE SUPPORTED</th>\n",
              "      <th>DESCRIPTION</th>\n",
              "      <th>WEIGHTED AVERAGE</th>\n",
              "      <th>normalized_weight_average</th>\n",
              "      <th>normalized_total_votes</th>\n",
              "    </tr>\n",
              "  </thead>\n",
              "  <tbody>\n",
              "    <tr>\n",
              "      <th>0</th>\n",
              "      <td>1</td>\n",
              "      <td>281656475</td>\n",
              "      <td>PAC-MAN Premium</td>\n",
              "      <td>100788224</td>\n",
              "      <td>3.99</td>\n",
              "      <td>21292</td>\n",
              "      <td>4.0</td>\n",
              "      <td>6.3.5</td>\n",
              "      <td>Games</td>\n",
              "      <td>38</td>\n",
              "      <td>10</td>\n",
              "      <td>SAVE 20%, now only $3.99 for a limited time!\\n...</td>\n",
              "      <td>3.964445</td>\n",
              "      <td>3.964445</td>\n",
              "      <td>21292</td>\n",
              "    </tr>\n",
              "    <tr>\n",
              "      <th>1</th>\n",
              "      <td>2</td>\n",
              "      <td>281796108</td>\n",
              "      <td>Evernote - stay organized</td>\n",
              "      <td>158578688</td>\n",
              "      <td>0.00</td>\n",
              "      <td>161065</td>\n",
              "      <td>4.0</td>\n",
              "      <td>8.2.2</td>\n",
              "      <td>Productivity</td>\n",
              "      <td>37</td>\n",
              "      <td>23</td>\n",
              "      <td>Let Evernote change the way you organize your ...</td>\n",
              "      <td>3.994972</td>\n",
              "      <td>3.994972</td>\n",
              "      <td>161065</td>\n",
              "    </tr>\n",
              "    <tr>\n",
              "      <th>2</th>\n",
              "      <td>3</td>\n",
              "      <td>281940292</td>\n",
              "      <td>WeatherBug - Local Weather, Radar, Maps, Alerts</td>\n",
              "      <td>100524032</td>\n",
              "      <td>0.00</td>\n",
              "      <td>188583</td>\n",
              "      <td>3.5</td>\n",
              "      <td>5.0.0</td>\n",
              "      <td>Weather</td>\n",
              "      <td>37</td>\n",
              "      <td>3</td>\n",
              "      <td>Download the most popular free weather app pow...</td>\n",
              "      <td>3.500245</td>\n",
              "      <td>3.500245</td>\n",
              "      <td>188583</td>\n",
              "    </tr>\n",
              "    <tr>\n",
              "      <th>3</th>\n",
              "      <td>4</td>\n",
              "      <td>282614216</td>\n",
              "      <td>eBay: Best App to Buy, Sell, Save! Online Shop...</td>\n",
              "      <td>128512000</td>\n",
              "      <td>0.00</td>\n",
              "      <td>262241</td>\n",
              "      <td>4.0</td>\n",
              "      <td>5.10.0</td>\n",
              "      <td>Shopping</td>\n",
              "      <td>37</td>\n",
              "      <td>9</td>\n",
              "      <td>The eBay app is the best way to find anything ...</td>\n",
              "      <td>3.996899</td>\n",
              "      <td>3.996899</td>\n",
              "      <td>262241</td>\n",
              "    </tr>\n",
              "    <tr>\n",
              "      <th>4</th>\n",
              "      <td>5</td>\n",
              "      <td>282935706</td>\n",
              "      <td>Bible</td>\n",
              "      <td>92774400</td>\n",
              "      <td>0.00</td>\n",
              "      <td>985920</td>\n",
              "      <td>4.5</td>\n",
              "      <td>7.5.1</td>\n",
              "      <td>Reference</td>\n",
              "      <td>37</td>\n",
              "      <td>45</td>\n",
              "      <td>On more than 250 million devices around the wo...</td>\n",
              "      <td>4.498295</td>\n",
              "      <td>4.498295</td>\n",
              "      <td>985920</td>\n",
              "    </tr>\n",
              "  </tbody>\n",
              "</table>\n",
              "</div>"
            ],
            "text/plain": [
              "   Unnamed: 0         ID  ... normalized_weight_average  normalized_total_votes\n",
              "0           1  281656475  ...                  3.964445                   21292\n",
              "1           2  281796108  ...                  3.994972                  161065\n",
              "2           3  281940292  ...                  3.500245                  188583\n",
              "3           4  282614216  ...                  3.996899                  262241\n",
              "4           5  282935706  ...                  4.498295                  985920\n",
              "\n",
              "[5 rows x 15 columns]"
            ]
          },
          "metadata": {
            "tags": []
          },
          "execution_count": 31
        }
      ]
    },
    {
      "cell_type": "code",
      "metadata": {
        "id": "fKBzNH4cZaXT",
        "colab_type": "code",
        "colab": {
          "base_uri": "https://localhost:8080/",
          "height": 622
        },
        "outputId": "de7ef9fd-743e-4c80-91cb-78d3d8f20d53"
      },
      "source": [
        "Combine_AppleStore_df['SCORE'] = Combine_AppleStore_df['normalized_weight_average'] * 0.5 + Combine_AppleStore_df['normalized_total_votes'] * 0.5\n",
        "AppleStore_scored_df = Combine_AppleStore_df.sort_values(['SCORE'], ascending=False)\n",
        "AppleStore_scored_df[['TRACK NAME', 'normalized_weight_average', 'normalized_total_votes', 'SCORE']].head(20)"
      ],
      "execution_count": 32,
      "outputs": [
        {
          "output_type": "execute_result",
          "data": {
            "text/html": [
              "<div>\n",
              "<style scoped>\n",
              "    .dataframe tbody tr th:only-of-type {\n",
              "        vertical-align: middle;\n",
              "    }\n",
              "\n",
              "    .dataframe tbody tr th {\n",
              "        vertical-align: top;\n",
              "    }\n",
              "\n",
              "    .dataframe thead th {\n",
              "        text-align: right;\n",
              "    }\n",
              "</style>\n",
              "<table border=\"1\" class=\"dataframe\">\n",
              "  <thead>\n",
              "    <tr style=\"text-align: right;\">\n",
              "      <th></th>\n",
              "      <th>TRACK NAME</th>\n",
              "      <th>normalized_weight_average</th>\n",
              "      <th>normalized_total_votes</th>\n",
              "      <th>SCORE</th>\n",
              "    </tr>\n",
              "  </thead>\n",
              "  <tbody>\n",
              "    <tr>\n",
              "      <th>16</th>\n",
              "      <td>Facebook</td>\n",
              "      <td>3.500016</td>\n",
              "      <td>2974676</td>\n",
              "      <td>1.487340e+06</td>\n",
              "    </tr>\n",
              "    <tr>\n",
              "      <th>519</th>\n",
              "      <td>Instagram</td>\n",
              "      <td>4.499222</td>\n",
              "      <td>2161558</td>\n",
              "      <td>1.080781e+06</td>\n",
              "    </tr>\n",
              "    <tr>\n",
              "      <th>1346</th>\n",
              "      <td>Clash of Clans</td>\n",
              "      <td>4.499210</td>\n",
              "      <td>2130805</td>\n",
              "      <td>1.065405e+06</td>\n",
              "    </tr>\n",
              "    <tr>\n",
              "      <th>707</th>\n",
              "      <td>Temple Run</td>\n",
              "      <td>4.499025</td>\n",
              "      <td>1724546</td>\n",
              "      <td>8.622752e+05</td>\n",
              "    </tr>\n",
              "    <tr>\n",
              "      <th>7</th>\n",
              "      <td>Pandora - Music &amp; Radio</td>\n",
              "      <td>3.999275</td>\n",
              "      <td>1126879</td>\n",
              "      <td>5.634415e+05</td>\n",
              "    </tr>\n",
              "    <tr>\n",
              "      <th>755</th>\n",
              "      <td>Pinterest</td>\n",
              "      <td>4.498417</td>\n",
              "      <td>1061624</td>\n",
              "      <td>5.308142e+05</td>\n",
              "    </tr>\n",
              "    <tr>\n",
              "      <th>4</th>\n",
              "      <td>Bible</td>\n",
              "      <td>4.498295</td>\n",
              "      <td>985920</td>\n",
              "      <td>4.929622e+05</td>\n",
              "    </tr>\n",
              "    <tr>\n",
              "      <th>1493</th>\n",
              "      <td>Candy Crush Saga</td>\n",
              "      <td>4.498253</td>\n",
              "      <td>961794</td>\n",
              "      <td>4.808992e+05</td>\n",
              "    </tr>\n",
              "    <tr>\n",
              "      <th>178</th>\n",
              "      <td>Spotify Music</td>\n",
              "      <td>4.498087</td>\n",
              "      <td>878563</td>\n",
              "      <td>4.392837e+05</td>\n",
              "    </tr>\n",
              "    <tr>\n",
              "      <th>275</th>\n",
              "      <td>Angry Birds</td>\n",
              "      <td>4.497962</td>\n",
              "      <td>824451</td>\n",
              "      <td>4.122277e+05</td>\n",
              "    </tr>\n",
              "    <tr>\n",
              "      <th>1246</th>\n",
              "      <td>Subway Surfers</td>\n",
              "      <td>4.497621</td>\n",
              "      <td>706110</td>\n",
              "      <td>3.530572e+05</td>\n",
              "    </tr>\n",
              "    <tr>\n",
              "      <th>348</th>\n",
              "      <td>Fruit Ninja Classic</td>\n",
              "      <td>4.497595</td>\n",
              "      <td>698516</td>\n",
              "      <td>3.492602e+05</td>\n",
              "    </tr>\n",
              "    <tr>\n",
              "      <th>343</th>\n",
              "      <td>Solitaire</td>\n",
              "      <td>4.497527</td>\n",
              "      <td>679055</td>\n",
              "      <td>3.395297e+05</td>\n",
              "    </tr>\n",
              "    <tr>\n",
              "      <th>990</th>\n",
              "      <td>CSR Racing</td>\n",
              "      <td>4.497520</td>\n",
              "      <td>677247</td>\n",
              "      <td>3.386257e+05</td>\n",
              "    </tr>\n",
              "    <tr>\n",
              "      <th>3042</th>\n",
              "      <td>Crossy Road - Endless Arcade Hopper</td>\n",
              "      <td>4.497490</td>\n",
              "      <td>669079</td>\n",
              "      <td>3.345417e+05</td>\n",
              "    </tr>\n",
              "    <tr>\n",
              "      <th>1634</th>\n",
              "      <td>Injustice: Gods Among Us</td>\n",
              "      <td>4.497259</td>\n",
              "      <td>612532</td>\n",
              "      <td>3.062682e+05</td>\n",
              "    </tr>\n",
              "    <tr>\n",
              "      <th>1218</th>\n",
              "      <td>Hay Day</td>\n",
              "      <td>4.497041</td>\n",
              "      <td>567344</td>\n",
              "      <td>2.836742e+05</td>\n",
              "    </tr>\n",
              "    <tr>\n",
              "      <th>1182</th>\n",
              "      <td>Clear Vision (17+)</td>\n",
              "      <td>4.496902</td>\n",
              "      <td>541693</td>\n",
              "      <td>2.708487e+05</td>\n",
              "    </tr>\n",
              "    <tr>\n",
              "      <th>1052</th>\n",
              "      <td>Minecraft: Pocket Edition</td>\n",
              "      <td>4.496785</td>\n",
              "      <td>522012</td>\n",
              "      <td>2.610082e+05</td>\n",
              "    </tr>\n",
              "    <tr>\n",
              "      <th>47</th>\n",
              "      <td>PAC-MAN</td>\n",
              "      <td>3.001786</td>\n",
              "      <td>508808</td>\n",
              "      <td>2.544055e+05</td>\n",
              "    </tr>\n",
              "  </tbody>\n",
              "</table>\n",
              "</div>"
            ],
            "text/plain": [
              "                               TRACK NAME  ...         SCORE\n",
              "16                               Facebook  ...  1.487340e+06\n",
              "519                             Instagram  ...  1.080781e+06\n",
              "1346                       Clash of Clans  ...  1.065405e+06\n",
              "707                            Temple Run  ...  8.622752e+05\n",
              "7                 Pandora - Music & Radio  ...  5.634415e+05\n",
              "755                             Pinterest  ...  5.308142e+05\n",
              "4                                   Bible  ...  4.929622e+05\n",
              "1493                     Candy Crush Saga  ...  4.808992e+05\n",
              "178                         Spotify Music  ...  4.392837e+05\n",
              "275                           Angry Birds  ...  4.122277e+05\n",
              "1246                       Subway Surfers  ...  3.530572e+05\n",
              "348                   Fruit Ninja Classic  ...  3.492602e+05\n",
              "343                             Solitaire  ...  3.395297e+05\n",
              "990                            CSR Racing  ...  3.386257e+05\n",
              "3042  Crossy Road - Endless Arcade Hopper  ...  3.345417e+05\n",
              "1634             Injustice: Gods Among Us  ...  3.062682e+05\n",
              "1218                              Hay Day  ...  2.836742e+05\n",
              "1182                   Clear Vision (17+)  ...  2.708487e+05\n",
              "1052            Minecraft: Pocket Edition  ...  2.610082e+05\n",
              "47                                PAC-MAN  ...  2.544055e+05\n",
              "\n",
              "[20 rows x 4 columns]"
            ]
          },
          "metadata": {
            "tags": []
          },
          "execution_count": 32
        }
      ]
    },
    {
      "cell_type": "code",
      "metadata": {
        "id": "1Q0q4-AnaKbs",
        "colab_type": "code",
        "colab": {
          "base_uri": "https://localhost:8080/",
          "height": 403
        },
        "outputId": "b70be678-3db4-4c7b-d019-b9f9342da642"
      },
      "source": [
        "scored_df = Combine_AppleStore_df.sort_values('SCORE', ascending=False)\n",
        "\n",
        "plt.figure(figsize=(16,6))\n",
        "\n",
        "ax = sns.barplot(x=scored_df['SCORE'].head(10), y=scored_df['TRACK NAME'].head(10), data=scored_df, palette='deep')\n",
        "\n",
        "#plt.xlim(3.55, 5.25)\n",
        "plt.title('BEST RATED AND MOST POPULAR', weight='bold')\n",
        "plt.xlabel('SCORE', weight='bold')\n",
        "plt.ylabel('TRACK NAME', weight='bold')\n",
        "\n",
        "plt.savefig('scored_app.png')"
      ],
      "execution_count": 36,
      "outputs": [
        {
          "output_type": "display_data",
          "data": {
            "image/png": "[encoded data removed]",
            "text/plain": [
              "<Figure size 1152x432 with 1 Axes>"
            ]
          },
          "metadata": {
            "tags": [],
            "needs_background": "light"
          }
        }
      ]
    },
    {
      "cell_type": "markdown",
      "metadata": {
        "id": "pwyFKM95etA3",
        "colab_type": "text"
      },
      "source": [
        "CONTENT BASED RECOMMENDATION SYSTEM"
      ]
    },
    {
      "cell_type": "code",
      "metadata": {
        "id": "Xvrarq-fauV1",
        "colab_type": "code",
        "colab": {
          "base_uri": "https://localhost:8080/",
          "height": 50
        },
        "outputId": "6de67fc7-5f7c-4814-80bb-f00566341e7a"
      },
      "source": [
        "Combine_AppleStore_df.head(1)['DESCRIPTION']"
      ],
      "execution_count": 37,
      "outputs": [
        {
          "output_type": "execute_result",
          "data": {
            "text/plain": [
              "0    SAVE 20%, now only $3.99 for a limited time!\\n...\n",
              "Name: DESCRIPTION, dtype: object"
            ]
          },
          "metadata": {
            "tags": []
          },
          "execution_count": 37
        }
      ]
    },
    {
      "cell_type": "code",
      "metadata": {
        "id": "waDKITSQe786",
        "colab_type": "code",
        "colab": {}
      },
      "source": [
        "from sklearn.feature_extraction.text import TfidfVectorizer\n",
        "\n",
        "tfv = TfidfVectorizer(min_df=3,  max_features=None, \n",
        "            strip_accents='unicode', analyzer='word',token_pattern=r'\\w{1,}',\n",
        "            ngram_range=(1, 3),\n",
        "            stop_words = 'english')\n",
        "\n",
        "# Filling NaNs with empty string\n",
        "Combine_AppleStore_df['DESCRIPTION'] = Combine_AppleStore_df['DESCRIPTION'].fillna('')"
      ],
      "execution_count": 38,
      "outputs": []
    },
    {
      "cell_type": "code",
      "metadata": {
        "id": "wl_z_HXqfPSq",
        "colab_type": "code",
        "colab": {}
      },
      "source": [
        "tfv_matrix = tfv.fit_transform(Combine_AppleStore_df['DESCRIPTION'])"
      ],
      "execution_count": 39,
      "outputs": []
    },
    {
      "cell_type": "code",
      "metadata": {
        "id": "2vWpCY_bfW3E",
        "colab_type": "code",
        "colab": {
          "base_uri": "https://localhost:8080/",
          "height": 33
        },
        "outputId": "61d66451-5fa9-48e4-8b24-695e13622c82"
      },
      "source": [
        "tfv_matrix.shape"
      ],
      "execution_count": 40,
      "outputs": [
        {
          "output_type": "execute_result",
          "data": {
            "text/plain": [
              "(7197, 87486)"
            ]
          },
          "metadata": {
            "tags": []
          },
          "execution_count": 40
        }
      ]
    },
    {
      "cell_type": "code",
      "metadata": {
        "id": "nPiMzUfIfdX3",
        "colab_type": "code",
        "colab": {}
      },
      "source": [
        "from sklearn.metrics.pairwise import sigmoid_kernel\n",
        "\n",
        "# Compute the sigmoid kernel\n",
        "sig = sigmoid_kernel(tfv_matrix, tfv_matrix)"
      ],
      "execution_count": 41,
      "outputs": []
    },
    {
      "cell_type": "code",
      "metadata": {
        "id": "bADMaY1sfgOS",
        "colab_type": "code",
        "colab": {}
      },
      "source": [
        "indices = pd.Series(Combine_AppleStore_df.index, index=Combine_AppleStore_df['TRACK NAME']).drop_duplicates()"
      ],
      "execution_count": 42,
      "outputs": []
    },
    {
      "cell_type": "code",
      "metadata": {
        "id": "pzfdxNwifo55",
        "colab_type": "code",
        "colab": {
          "base_uri": "https://localhost:8080/",
          "height": 228
        },
        "outputId": "49ff1967-e735-4145-801c-ba7f12c8396b"
      },
      "source": [
        "indices"
      ],
      "execution_count": 43,
      "outputs": [
        {
          "output_type": "execute_result",
          "data": {
            "text/plain": [
              "TRACK NAME\n",
              "PAC-MAN Premium                                          0\n",
              "Evernote - stay organized                                1\n",
              "WeatherBug - Local Weather, Radar, Maps, Alerts          2\n",
              "eBay: Best App to Buy, Sell, Save! Online Shopping       3\n",
              "Bible                                                    4\n",
              "                                                      ... \n",
              "Kubik                                                 7192\n",
              "VR Roller-Coaster                                     7193\n",
              "Bret Michaels Emojis + Lyric Keyboard                 7194\n",
              "VR Roller Coaster World - Virtual Reality             7195\n",
              "Escape the Sweet Shop Series                          7196\n",
              "Length: 7197, dtype: int64"
            ]
          },
          "metadata": {
            "tags": []
          },
          "execution_count": 43
        }
      ]
    },
    {
      "cell_type": "code",
      "metadata": {
        "id": "MioUwCT9fqth",
        "colab_type": "code",
        "colab": {}
      },
      "source": [
        "def get_rec(title, sig=sig):\n",
        "    # Get the index corresponding to original_title\n",
        "    idx = indices[title]\n",
        "\n",
        "    # Get the pairwsie similarity scores \n",
        "    sig_scores = list(enumerate(sig[idx]))\n",
        "\n",
        "    # Sort the movies \n",
        "    sig_scores = sorted(sig_scores, key=lambda x: x[1], reverse=True)\n",
        "\n",
        "    # Scores of the 10 most similar movies\n",
        "    sig_scores = sig_scores[1:11]\n",
        "\n",
        "    # Movie indices\n",
        "    movie_indices = [i[0] for i in sig_scores]\n",
        "\n",
        "    # Top 10 most similar movies\n",
        "    return Combine_AppleStore_df['TRACK NAME'].iloc[movie_indices]"
      ],
      "execution_count": 44,
      "outputs": []
    },
    {
      "cell_type": "code",
      "metadata": {
        "id": "iuxf7iJAf0q3",
        "colab_type": "code",
        "colab": {
          "base_uri": "https://localhost:8080/",
          "height": 196
        },
        "outputId": "bb7f7309-769d-4766-b500-89368d1f9497"
      },
      "source": [
        "get_rec('Instagram')"
      ],
      "execution_count": 46,
      "outputs": [
        {
          "output_type": "execute_result",
          "data": {
            "text/plain": [
              "3749     Moments - private albums with friends and family\n",
              "689       PhotoSync – transfer and backup photos & videos\n",
              "787                                              PicFrame\n",
              "4570                          InsPad - Instagram for iPad\n",
              "3334    Video Saver & Uploader-Save & Upload your Phot...\n",
              "1428    Wireless Transfer App:Sync backup photo and video\n",
              "1245                                            Flipagram\n",
              "998          Secret Calculator Pro - Hide photos & videos\n",
              "206     Camera Plus: For Macro Photos & Remote Photogr...\n",
              "3414    Google Photos - unlimited photo and video storage\n",
              "Name: TRACK NAME, dtype: object"
            ]
          },
          "metadata": {
            "tags": []
          },
          "execution_count": 46
        }
      ]
    },
    {
      "cell_type": "code",
      "metadata": {
        "id": "03U3ojlkf70L",
        "colab_type": "code",
        "colab": {}
      },
      "source": [
        ""
      ],
      "execution_count": null,
      "outputs": []
    }
  ]
}